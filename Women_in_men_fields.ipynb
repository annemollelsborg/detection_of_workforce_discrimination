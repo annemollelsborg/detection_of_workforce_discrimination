{
 "cells": [
  {
   "cell_type": "markdown",
   "metadata": {},
   "source": [
    "# 42578 Project: Advanced Business Analytics\n",
    "## Title: Bias-detection systems in job descriptions and exploratory analysis of underrepresented groups in the workforce\n",
    "### Theme: AI for the betterment of society\n",
    "#### Group members:\n",
    "\n",
    "- Anna Matzen - s214978 \n",
    "- Anne Moll-Elsborg - s214986\n",
    "- Kalle Leander Johansen - s204099\n",
    "- Paula Granlund - s215001\n",
    "\n",
    "#### Date: May 2025"
   ]
  },
  {
   "cell_type": "markdown",
   "metadata": {},
   "source": [
    "## Introduction\n",
    "Extensive research demonstrates that organizations with diverse workforces consistently outperform their peers across virtually every metric. Diversity enriches all aspects of business, from front-line employees to executive leadership.\n",
    "\n",
    "By welcoming a wide range of perspectives, working styles, and experiences, companies foster innovation, integration, and sustainable growth. Organizations that proactively cultivate and attract diverse talent position themselves for greater long-term success.\n",
    "\n",
    "A balanced workforce begins with job advertisements that are free from unconscious bias. Employers who prioritize inclusive language demonstrate forward-thinking values and attract a broader, more diverse pool of qualified candidates.\n",
    "\n",
    "Unconscious biases within job descriptions can inadvertently keep highly qualified candidates from applying. These biases commonly appear in both the language and format of job postings. By carefully reviewing and revising job advertisements, organizations can eliminate these barriers and ensure they appeal to all suitable applicants.\n",
    "\n",
    "**Note:** *Unconscious bias* refers to implicit attitudes, stereotypes, or assumptions about certain groups of people that individuals hold without conscious awareness. These biases are shaped by personal experiences, cultural influences, and societal norms, and they can unintentionally influence decisions, behaviors, and interactions, often leading to unfair outcomes or discrimination even when people consciously believe in equality and fairness."
   ]
  },
  {
   "cell_type": "markdown",
   "metadata": {},
   "source": [
    "## Motivation and related studies\n",
    "The study \"Evidence That Gendered Wording in Job Advertisements Exists and Sustains Gender Inequality\" by Danielle Gaucher and Justin Friesen, University of Waterloo, showed job adverts which included different kinds of gender-coded language to men and women and recorded how appealing the jobs seemed and how much the participants felt that they 'belonged' in that occupation. The research states that despite widespread egalitarian ideals, women remain underrepresented in male-dominated fields such as engineering, business leadership, and the natural sciences. \n",
    "\n",
    "The paper identifies job advertisements as an institutional-level factor that perpetuates gender inequality through subtle gendered wording, reinforcing gender stereotypes and discouraging women from applying. Two additional findings are worth to highlight:\n",
    "\n",
    "- Empirical evidence demonstrates that job ads for male-dominated occupations systematically contain more masculine-themed words (e.g., “leader,” “competitive,” “dominant”) than advertisements in female-dominated areas. \n",
    "- No corresponding increase in feminine wording (“support,” “understand,” “interpersonal”) is observed in advertisements for female-dominated occupations, suggesting an asymmetry aligned with social dominance theory rather than social role theory.\n",
    "\n",
    "From a practical perspective, the results suggest the importance of consciously revising job advertisements to remove masculine biases, thus promoting gender diversity and inclusion in workplaces.\n",
    "\n",
    "**By now, it should be clear why recognizing and addressing bias in hiring practices is essential - and why eliminating unconscious bias must begin from the earliest stage: the job description itself.**"
   ]
  },
  {
   "cell_type": "markdown",
   "metadata": {},
   "source": [
    "## Exploratory analysis\n",
    "In the previous section, it was mentioned that “women remain underrepresented in male-dominated fields.” This statement is originally based on a U.S. analysis from 2011, with many recent studies continuing to support this observation. Given the critical importance of this assumption for the current study, this section will further examine it by analyzing and comparing gender distributions across education and employment in OECD countries, using data from 2021."
   ]
  },
  {
   "cell_type": "code",
   "execution_count": null,
   "metadata": {},
   "outputs": [],
   "source": [
    "# THIS IS WHERE TO BEGIN CODING\n",
    "## The purpose is to:\n",
    "## 1) Detect if there are sectors where the dominant gender in the education differ from the dominant gender in the workforce (employment)\n",
    "## 2) Check the above assumption about underrepresentation"
   ]
  },
  {
   "cell_type": "markdown",
   "metadata": {},
   "source": [
    "## Bias-detection\n",
    "\n",
    "In the context of job advertisements, unconscious bias often manifests subtly through the language and structure used when describing roles. For example, job titles such as chairman, fireman, or councilman implicitly suggest a preference for male applicants, potentially deterring other qualified candidates. Similarly, the choice of pronouns can introduce bias; using gendered pronouns like he or she rather than gender-neutral alternatives like they or directly addressing the candidate as you can unintentionally reinforce gender stereotypes.\n",
    "\n",
    "Biased language also appears when describing the ideal candidate. Terms like assertive or competitive tend to align with stereotypically masculine traits, while adjectives such as bubbly or nurturing typically associate with femininity. Additionally, overly detailed job requirements may disproportionately discourage women, who statistically are more likely to apply only if they meet all stated criteria, thereby limiting the applicant pool.\n",
    "\n",
    "**Recognizing these issues, this study specifically focuses on addressing unconscious bias in hiring by examining the effects of biased language in job descriptions.**"
   ]
  },
  {
   "cell_type": "markdown",
   "metadata": {},
   "source": [
    "### Topic-modelling"
   ]
  },
  {
   "cell_type": "code",
   "execution_count": 1,
   "metadata": {},
   "outputs": [],
   "source": [
    "# THIS IS WHERE TO BEGIN CODING"
   ]
  },
  {
   "cell_type": "markdown",
   "metadata": {},
   "source": [
    "Based on similar studies, non gender-neutral words have been collected. Some words have been reduced to a 'stem' to cover a range of noun, verb and adjective variants; for instance \"compet\" covers \"compete\", \"competetive\" and \"competition\".\n",
    "\n",
    "**Feminine-coded words**\n",
    "\n",
    "| agree- | affectionate- | child-       | cheer-      | collab-     | commit-     |\n",
    "|--------|----------------|--------------|-------------|-------------|-------------|\n",
    "| communal- | compassion- | connect-     | considerate-| cooperat-   | co-operat-  |\n",
    "| depend-   | emotiona-   | empath-      | feel-       | flatterable-| gentle-     |\n",
    "| honest-   | interpersonal- | interdependen- | interpersona- | inter-personal- | inter-dependen- |\n",
    "| inter-persona- | kind- | kinship-     | loyal-      | modesty-    | nag-        |\n",
    "| nurtur-   | pleasant-   | polite-      | quiet-      | respon-     | sensitiv-   |\n",
    "| submissive- | support- | sympath-     | tender-     | together-   | trust-      |\n",
    "| understand- | warm-     | whin-        | enthusias-  | inclusive-  | yield-      |\n",
    "| share-     | sharin-    |              |             |             |             |\n",
    "\n",
    "**Masculine coded words**\n",
    "\n",
    "| active- | adventurous- | aggress-     | ambitio-    | analy-      | assert-     |\n",
    "|---------|---------------|--------------|-------------|-------------|-------------|\n",
    "| athlet- | autonom-     | battle-      | boast-      | challeng-   | champion-   |\n",
    "| compet- | confident-   | courag-      | decid-      | decision-   | decisive-   |\n",
    "| defend- | determin-    | domina-      | dominant-   | driven-     | fearless-   |\n",
    "| fight-  | force-       | greedy-      | head-strong-| headstrong- | hierarch-   |\n",
    "| hostil- | impulsive-   | independen-  | individual- | intellect-  | lead-       |\n",
    "| logic-  | objective-   | opinion-     | outspoken-  | persist-    | principle-  |\n",
    "| reckless- | self-confiden- | self-relian- | self-sufficien- | selfconfiden- | selfrelian- |\n",
    "| selfsufficien- | stubborn- | superior- | unreasonab- |             |             |"
   ]
  },
  {
   "cell_type": "markdown",
   "metadata": {},
   "source": [
    "### Bias-detecion system"
   ]
  },
  {
   "cell_type": "code",
   "execution_count": 2,
   "metadata": {},
   "outputs": [],
   "source": [
    "# THIS IS WHERE TO BEGIN CODING"
   ]
  },
  {
   "cell_type": "markdown",
   "metadata": {},
   "source": [
    "## Further work\n",
    "THIS IS WHERE TO ADD CONCLUSIONS, FURTHER WORK, OR RECOMMENDATIONS"
   ]
  }
 ],
 "metadata": {
  "kernelspec": {
   "display_name": "dl",
   "language": "python",
   "name": "python3"
  },
  "language_info": {
   "codemirror_mode": {
    "name": "ipython",
    "version": 3
   },
   "file_extension": ".py",
   "mimetype": "text/x-python",
   "name": "python",
   "nbconvert_exporter": "python",
   "pygments_lexer": "ipython3",
   "version": "3.12.9"
  }
 },
 "nbformat": 4,
 "nbformat_minor": 2
}
