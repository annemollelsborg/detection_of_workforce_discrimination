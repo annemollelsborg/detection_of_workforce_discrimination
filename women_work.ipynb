{
 "cells": [
  {
   "cell_type": "code",
   "execution_count": 55,
   "metadata": {},
   "outputs": [
    {
     "name": "stdout",
     "output_type": "stream",
     "text": [
      "                                            Industry  Men (per cent)  \\\n",
      "0  011100 Growing of cereals (except rice), legum...            83.1   \n",
      "1                             011200 Growing of rice             0.0   \n",
      "2  011300 Growing of vegetables and melons, roots...            62.6   \n",
      "3                       011400 Growing of sugar cane             0.0   \n",
      "4                          011500 Growing of tobacco             0.0   \n",
      "\n",
      "   Women (per cent)  Difference between men and women (percentage point)  \\\n",
      "0              16.9                                               66.2     \n",
      "1               0.0                                                0.0     \n",
      "2              37.4                                               25.2     \n",
      "3               0.0                                                0.0     \n",
      "4               0.0                                                0.0     \n",
      "\n",
      "               Grouped_Industry  \n",
      "0  Landbrug, skovbrug og fisker  \n",
      "1  Landbrug, skovbrug og fisker  \n",
      "2  Landbrug, skovbrug og fisker  \n",
      "3  Landbrug, skovbrug og fisker  \n",
      "4  Landbrug, skovbrug og fisker  \n"
     ]
    }
   ],
   "source": [
    "import pandas as pd\n",
    "import os\n",
    "\n",
    "# Replace this with the actual name of your Excel file\n",
    "path = \"/Users/paulagranlund/desktop/2025411141143535010615LIGEAI3.xlsx\" \n",
    "\n",
    "# Read the Excel file from Desktop\n",
    "df = pd.read_excel(path)\n",
    "\n",
    "# Mapping categories\n",
    "target_groups = {\n",
    "    \"Landbrug, skovbrug og fisker\": [\n",
    "        \"Growing\", \"Raising\", \"Plant propagation\", \"Hunting\", \"Silviculture\", \"Logging\",\n",
    "        \"Gathering\", \"Support services to forestry\", \"Marine fishing\", \"Freshwater fishing\",\n",
    "        \"Marine aquaculture\", \"Freshwater aquaculture\", \"farming\", \"textile\", \"Fish\"\n",
    "    ],\n",
    "    \"Industri, råstofindvinding og forsyningsvirksomhed\": [\n",
    "        \"Mining\", \"Extraction\", \"Quarrying\", \"Manufacture\", \"Processing\", \"Production\",\n",
    "        \"Refining\", \"Casting\", \"Forging\", \"Repair of fabricated metal products\",\n",
    "        \"Electricity\", \"Gas\", \"Water\", \"Sewerage\", \"Waste\", \"Remediation\", \"textile\", \"textiles\", \"leather\", \"wood\", \"Printing\", \"stone\", \"cold\",\n",
    "        \"metals\", \"Machining\", \"Building\", \"manufacturing\", \"Repair\", \"drilling\", \"wall\", \"Bricklayers\", \"Tyre\",  \n",
    "    ],\n",
    "    \"Bygge og anlæg\": [\n",
    "        \"Construction\", \"Demolition\", \"Site preparation\", \"Electrical installation\",\n",
    "        \"Plumbing\", \"Joinery\", \"Roofing\", \"Painting\", \"Glazing\", \"Building completion\"\n",
    "    ],\n",
    "    \"Handel og transport mv\": [\n",
    "        \"Wholesale\", \"Retail\", \"Sale\", \"Trade\", \"Repair of motor vehicles\", \"Transport\", \n",
    "        \"Storage\", \"Warehousing\", \"Cargo handling\", \"Postal activities\", \"Courier\", \"Supermarkets\", \"stores\", \"Taxi\", \"taxi\", \n",
    "        \"car\", \"roads\", \"harbours\", \"affairs\"\n",
    "    ],\n",
    "    \"Information og kommunikation\": [\n",
    "        \"Publishing\", \"Motion picture\", \"Broadcasting\", \"Telecommunications\",\n",
    "        \"Computer programming\", \"IT\", \"Web portals\", \"Information service\", \"media\", \"Media\", \"public\"\n",
    "    ],\n",
    "    \"Finansiering og forsikring\": [\n",
    "        \"Banking\", \"Monetary\", \"Financial\", \"Insurance\", \"Pension\", \"Fund management\",\n",
    "        \"Credit\", \"Securities\", \"Investment\", \"Trusts\", \"Money\", \"Risk\", \"analysis\"\n",
    "    ],\n",
    "    \"Ejendomshandel og udlejning\": [\n",
    "        \"Real estate\", \"Housing\", \"Renting\", \"Leasing\", \"Accommodation\"\n",
    "    ],\n",
    "    \"Erhvervsservice\": [\n",
    "        \"Legal\", \"Accounting\", \"Consultancy\", \"Engineering\", \"Scientific\", \"Advertising\",\n",
    "        \"Design\", \"Translation\", \"Veterinary\", \"Employment\", \"Security\", \"Cleaning\", \n",
    "        \"Landscape\", \"Office administrative\", \"Call centres\", \"Business support\"\n",
    "    ],\n",
    "    \"Offentlig administration, undervisning og sundhed\": [\n",
    "        \"Public administration\", \"Education\", \"Hospitals\", \"Medical\", \"Dental\",\n",
    "        \"Health care\", \"Nursing\", \"Residential\", \"Social work\", \"school\", \"schools\", \"care\", \"Day-care\", \"day-care\",\n",
    "        \"Kindergartens\", \n",
    "    ],\n",
    "    \"Kultur, fritid og anden service\": [\n",
    "        \"Theatres\", \"Artists\", \"Museums\", \"Libraries\", \"Sports\", \"Recreation\",\n",
    "        \"Amusement\", \"Membership organizations\", \"Hairdresssing\", \"Beauty treatment\",\n",
    "        \"Funeral\", \"Laundries\", \"Repair of personal\", \"Well-being\", \"Dismantling\", \"Hotels\", \"Holiday\", \"Restaurants\", \n",
    "        \"takeaways\", \"food\", \"bars\"\n",
    "    ],\n",
    "    \"Uoplyst aktivitet\": [\n",
    "        \"Activity not stated\"\n",
    "    ]\n",
    "}\n",
    "\n",
    "# Classify each industry into a group\n",
    "def classify_industry(industry):\n",
    "    for group, keywords in target_groups.items():\n",
    "        for keyword in keywords:\n",
    "            if keyword.lower() in str(industry).lower():\n",
    "                return group\n",
    "    return \"Uoplyst aktivitet\"\n",
    "\n",
    "# Apply classification\n",
    "df[\"Grouped_Industry\"] = df[\"Industry\"].apply(classify_industry)\n",
    "\n",
    "# (Optional) Preview the results\n",
    "print(df.head())\n",
    "\n"
   ]
  },
  {
   "cell_type": "code",
   "execution_count": 56,
   "metadata": {},
   "outputs": [
    {
     "data": {
      "text/plain": [
       "26"
      ]
     },
     "execution_count": 56,
     "metadata": {},
     "output_type": "execute_result"
    }
   ],
   "source": [
    "# Display all unclassified entries\n",
    "unclassified_entries = df[df[\"Grouped_Industry\"] == \"Uoplyst aktivitet\"]\n",
    "len(unclassified_entries)\n"
   ]
  },
  {
   "cell_type": "code",
   "execution_count": 58,
   "metadata": {},
   "outputs": [
    {
     "name": "stdout",
     "output_type": "stream",
     "text": [
      "                                     Grouped_Industry  Women (per cent)\n",
      "9   Offentlig administration, undervisning og sundhed         59.638462\n",
      "7                     Kultur, fritid og anden service         51.690909\n",
      "6                        Information og kommunikation         47.833600\n",
      "10                                  Uoplyst aktivitet         46.511538\n",
      "4                              Handel og transport mv         42.104167\n",
      "1                         Ejendomshandel og udlejning         38.943750\n",
      "3                          Finansiering og forsikring         38.220000\n",
      "2                                     Erhvervsservice         36.266667\n",
      "8                        Landbrug, skovbrug og fisker         34.049057\n",
      "5   Industri, råstofindvinding og forsyningsvirkso...         27.482468\n",
      "0                                      Bygge og anlæg         12.038095\n"
     ]
    }
   ],
   "source": [
    "# Group by 'Grouped_Industry' and compute the mean of 'Women (per cent)'\n",
    "mean_women = df.groupby(\"Grouped_Industry\")[\"Women (per cent)\"].mean().reset_index()\n",
    "\n",
    "# Optional: sort the results\n",
    "mean_women = mean_women.sort_values(by=\"Women (per cent)\", ascending=False)\n",
    "\n",
    "print(mean_women)"
   ]
  }
 ],
 "metadata": {
  "kernelspec": {
   "display_name": "Python 3",
   "language": "python",
   "name": "python3"
  },
  "language_info": {
   "codemirror_mode": {
    "name": "ipython",
    "version": 3
   },
   "file_extension": ".py",
   "mimetype": "text/x-python",
   "name": "python",
   "nbconvert_exporter": "python",
   "pygments_lexer": "ipython3",
   "version": "3.9.6"
  },
  "orig_nbformat": 4
 },
 "nbformat": 4,
 "nbformat_minor": 2
}
