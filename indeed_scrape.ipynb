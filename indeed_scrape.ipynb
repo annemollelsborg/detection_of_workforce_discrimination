{
 "cells": [
  {
   "cell_type": "code",
   "execution_count": 3,
   "id": "5f3c60d9",
   "metadata": {},
   "outputs": [
    {
     "name": "stdout",
     "output_type": "stream",
     "text": [
      "▶️ Wrote debug.html – open this in your browser and search for job_seen_beacon\n",
      "Scraping 0 jobs so far...\n",
      "▶️ Wrote debug.png – open this to see exactly what the headless browser saw\n"
     ]
    },
    {
     "ename": "TimeoutException",
     "evalue": "Message: \n",
     "output_type": "error",
     "traceback": [
      "\u001b[0;31m---------------------------------------------------------------------------\u001b[0m",
      "\u001b[0;31mTimeoutException\u001b[0m                          Traceback (most recent call last)",
      "Cell \u001b[0;32mIn[3], line 56\u001b[0m\n\u001b[1;32m     53\u001b[0m driver\u001b[38;5;241m.\u001b[39msave_screenshot(\u001b[38;5;124m\"\u001b[39m\u001b[38;5;124mdebug.png\u001b[39m\u001b[38;5;124m\"\u001b[39m)\n\u001b[1;32m     54\u001b[0m \u001b[38;5;28mprint\u001b[39m(\u001b[38;5;124m\"\u001b[39m\u001b[38;5;124m▶️ Wrote debug.png – open this to see exactly what the headless browser saw\u001b[39m\u001b[38;5;124m\"\u001b[39m)\n\u001b[0;32m---> 56\u001b[0m job_cards \u001b[38;5;241m=\u001b[39m \u001b[43mwait\u001b[49m\u001b[38;5;241;43m.\u001b[39;49m\u001b[43muntil\u001b[49m\u001b[43m(\u001b[49m\u001b[43mEC\u001b[49m\u001b[38;5;241;43m.\u001b[39;49m\u001b[43mpresence_of_all_elements_located\u001b[49m\u001b[43m(\u001b[49m\n\u001b[1;32m     57\u001b[0m \u001b[43m\u001b[49m\u001b[43m(\u001b[49m\u001b[43mBy\u001b[49m\u001b[38;5;241;43m.\u001b[39;49m\u001b[43mCSS_SELECTOR\u001b[49m\u001b[43m,\u001b[49m\u001b[43m \u001b[49m\u001b[38;5;124;43m'\u001b[39;49m\u001b[38;5;124;43mdiv.job_seen_beacon\u001b[39;49m\u001b[38;5;124;43m'\u001b[39;49m\u001b[43m)\u001b[49m\n\u001b[1;32m     58\u001b[0m \u001b[43m\u001b[49m\u001b[43m)\u001b[49m\u001b[43m)\u001b[49m\n\u001b[1;32m     61\u001b[0m \u001b[38;5;28;01mfor\u001b[39;00m card \u001b[38;5;129;01min\u001b[39;00m job_cards:\n\u001b[1;32m     62\u001b[0m     \u001b[38;5;28;01mtry\u001b[39;00m:\n",
      "File \u001b[0;32m~/Library/Python/3.9/lib/python/site-packages/selenium/webdriver/support/wait.py:146\u001b[0m, in \u001b[0;36mWebDriverWait.until\u001b[0;34m(self, method, message)\u001b[0m\n\u001b[1;32m    144\u001b[0m         \u001b[38;5;28;01mbreak\u001b[39;00m\n\u001b[1;32m    145\u001b[0m     time\u001b[38;5;241m.\u001b[39msleep(\u001b[38;5;28mself\u001b[39m\u001b[38;5;241m.\u001b[39m_poll)\n\u001b[0;32m--> 146\u001b[0m \u001b[38;5;28;01mraise\u001b[39;00m TimeoutException(message, screen, stacktrace)\n",
      "\u001b[0;31mTimeoutException\u001b[0m: Message: \n"
     ]
    }
   ],
   "source": [
    "import undetected_chromedriver as uc\n",
    "from selenium.webdriver.common.by import By\n",
    "from selenium.webdriver.support.ui import WebDriverWait\n",
    "from selenium.webdriver.support import expected_conditions as EC\n",
    "import time, pandas as pd\n",
    "\n",
    "# Stealthy Chrome\n",
    "options = uc.ChromeOptions()\n",
    "options.headless = True\n",
    "options.add_argument(\"--no-sandbox\")\n",
    "options.add_argument(\"--disable-gpu\")\n",
    "# spoof a real user-agent\n",
    "options.add_argument(\n",
    "    \"user-agent=Mozilla/5.0 (Macintosh; Intel Mac OS X 10_15_7) \"\n",
    "    \"AppleWebKit/537.36 (KHTML, like Gecko) \"\n",
    "    \"Chrome/112.0.0.0 Safari/537.36\"\n",
    ")\n",
    "\n",
    "driver = uc.Chrome(options=options)\n",
    "wait = WebDriverWait(driver, 10)\n",
    "\n",
    "# Search query\n",
    "query = \"nurse\"\n",
    "search_location = \"United States\"\n",
    "url = f\"https://www.indeed.com/jobs?q={query}&l={search_location}\"\n",
    "\n",
    "driver.get(url)\n",
    "\n",
    "# if Indeed shows a cookie consent banner, click \"Accept\"\n",
    "try:\n",
    "    accept = WebDriverWait(driver, 5).until(\n",
    "        EC.element_to_be_clickable((By.ID, \"onetrust-accept-btn-handler\"))\n",
    "    )\n",
    "    accept.click()\n",
    "    print(\"Clicked accept cookies\")\n",
    "    time.sleep(1)\n",
    "except:\n",
    "    # no banner appeared\n",
    "    pass\n",
    "\n",
    "# DEBUG: dump the full page HTML\n",
    "with open(\"debug.html\", \"w\", encoding=\"utf-8\") as f:\n",
    "    f.write(driver.page_source)\n",
    "print(\"▶️ Wrote debug.html – open this in your browser and search for job_seen_beacon\")\n",
    "\n",
    "\n",
    "job_data = []\n",
    "\n",
    "while len(job_data) < 30:\n",
    "    print(f\"Scraping {len(job_data)} jobs so far...\")\n",
    "\n",
    "    # DEBUG: save a snapshot of the rendered page\n",
    "    driver.save_screenshot(\"debug.png\")\n",
    "    print(\"▶️ Wrote debug.png – open this to see exactly what the headless browser saw\")\n",
    "\n",
    "    job_cards = wait.until(EC.presence_of_all_elements_located(\n",
    "    (By.CSS_SELECTOR, 'div.job_seen_beacon')\n",
    "    ))\n",
    "\n",
    "\n",
    "    for card in job_cards:\n",
    "        try:\n",
    "            title   = card.find_element(By.CSS_SELECTOR, \"h2.jobTitle span\").text\n",
    "            company = card.find_element(By.CSS_SELECTOR, \"span.companyName\").text\n",
    "            job_loc     = card.find_element(By.CSS_SELECTOR, \"div.companyLocation\").text\n",
    "            summary = card.find_element(By.CSS_SELECTOR, \"div.job-snippet\").text\n",
    "\n",
    "\n",
    "            # Click job link or extract href\n",
    "            job_link = card.find_element(By.TAG_NAME, \"a\").get_attribute(\"href\")\n",
    "\n",
    "            # Open the job page in the same browser\n",
    "            driver.execute_script(\"window.open(arguments[0]);\", job_link)\n",
    "            driver.switch_to.window(driver.window_handles[1])\n",
    "            time.sleep(2)\n",
    "\n",
    "            try:\n",
    "                # Sometimes class name may vary slightly; handle both\n",
    "                description_elem = driver.find_element(By.ID, 'jobDescriptionText')\n",
    "                description = description_elem.text\n",
    "            except:\n",
    "                description = \"\"\n",
    "\n",
    "            # Close job tab and return to main results\n",
    "            driver.close()\n",
    "            driver.switch_to.window(driver.window_handles[0])\n",
    "\n",
    "            job_data.append({\n",
    "                \"title\": title,\n",
    "                \"company\": company,\n",
    "                \"location\": job_loc,\n",
    "                \"summary\": summary,\n",
    "                \"link\": job_link,\n",
    "                \"description\": description\n",
    "            })\n",
    "\n",
    "            if len(job_data) >= 30:\n",
    "                break   # stop once we have 30\n",
    "        except Exception as e:\n",
    "            print(f\"Error: {e}\")\n",
    "            continue\n",
    "\n",
    "    # Click next page\n",
    "    if len(job_data) < 30:\n",
    "        try:\n",
    "            next_button = wait.until(EC.element_to_be_clickable((By.XPATH, '//a[@aria-label=\"Next\"]')))\n",
    "            next_button.click()\n",
    "        except:\n",
    "            print(\"No more pages.\")\n",
    "            break\n",
    "\n",
    "driver.quit()\n"
   ]
  },
  {
   "cell_type": "code",
   "execution_count": 2,
   "id": "b6bd6a2d",
   "metadata": {},
   "outputs": [
    {
     "name": "stdout",
     "output_type": "stream",
     "text": [
      "Total jobs scraped: 0\n"
     ]
    }
   ],
   "source": [
    "print(\"Total jobs scraped:\", len(job_data))"
   ]
  },
  {
   "cell_type": "code",
   "execution_count": null,
   "id": "03a3e8a0",
   "metadata": {},
   "outputs": [],
   "source": [
    "# Save as CSV\n",
    "df = pd.DataFrame(job_data[:30])\n",
    "df.to_csv(\"nurse_jobs.csv\", index=False)\n",
    "print(\"Saved 30 job listings to nurse_jobs.csv\")"
   ]
  }
 ],
 "metadata": {
  "kernelspec": {
   "display_name": "Python 3",
   "language": "python",
   "name": "python3"
  },
  "language_info": {
   "codemirror_mode": {
    "name": "ipython",
    "version": 3
   },
   "file_extension": ".py",
   "mimetype": "text/x-python",
   "name": "python",
   "nbconvert_exporter": "python",
   "pygments_lexer": "ipython3",
   "version": "3.9.6"
  }
 },
 "nbformat": 4,
 "nbformat_minor": 5
}
