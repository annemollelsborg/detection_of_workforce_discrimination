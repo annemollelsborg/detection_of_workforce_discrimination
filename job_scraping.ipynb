{
 "cells": [
  {
   "cell_type": "markdown",
   "metadata": {},
   "source": [
    "### Job scraping"
   ]
  },
  {
   "cell_type": "code",
   "execution_count": 10,
   "metadata": {},
   "outputs": [
    {
     "name": "stdout",
     "output_type": "stream",
     "text": [
      "Saved job listings to jooble_jobs_it.csv\n"
     ]
    }
   ],
   "source": [
    "import requests\n",
    "import pandas as pd\n",
    "\n",
    "# Your Jooble API key\n",
    "API_KEY = \"54cf1d6e-18eb-4731-9057-b336a85ffddb\"\n",
    "\n",
    "# API URL\n",
    "URL = f\"https://jooble.org/api/{API_KEY}\"\n",
    "\n",
    "# Search parameters\n",
    "keyword = \"it\"\n",
    "location = \"Denmark\"\n",
    "\n",
    "# Request payload\n",
    "payload = {\n",
    "    \"keywords\": keyword,\n",
    "    \"location\": location,\n",
    "    \"page\": 1,\n",
    "    \"searchMode\": 1\n",
    "}\n",
    "\n",
    "# Send request\n",
    "response = requests.post(URL, json=payload)\n",
    "data = response.json()\n",
    "\n",
    "# Save to CSV if jobs are found\n",
    "if \"jobs\" in data and data[\"jobs\"]:\n",
    "    job_list = [{\"Title\": job[\"title\"], \"Description\": job[\"snippet\"]} for job in data[\"jobs\"]]\n",
    "    df = pd.DataFrame(job_list)\n",
    "    filename = f\"jooble_jobs_{keyword}.csv\"\n",
    "    df.to_csv(filename, index=False)\n",
    "    print(f\"Saved job listings to {filename}\")\n",
    "else:\n",
    "    print(\"No job listings found or empty response.\")\n"
   ]
  }
 ],
 "metadata": {
  "kernelspec": {
   "display_name": "Python 3",
   "language": "python",
   "name": "python3"
  },
  "language_info": {
   "codemirror_mode": {
    "name": "ipython",
    "version": 3
   },
   "file_extension": ".py",
   "mimetype": "text/x-python",
   "name": "python",
   "nbconvert_exporter": "python",
   "pygments_lexer": "ipython3",
   "version": "3.9.6"
  },
  "orig_nbformat": 4
 },
 "nbformat": 4,
 "nbformat_minor": 2
}
