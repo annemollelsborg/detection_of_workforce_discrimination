{
 "cells": [
  {
   "cell_type": "markdown",
   "metadata": {},
   "source": [
    "### Finds gender biased word stems"
   ]
  },
  {
   "cell_type": "code",
   "execution_count": 22,
   "metadata": {},
   "outputs": [],
   "source": [
    "import re\n",
    "from nltk.stem import PorterStemmer\n",
    "\n",
    "stemmer = PorterStemmer()\n",
    "\n",
    "def stem_words(words):\n",
    "    return [stemmer.stem(word.lower()) for word in words]\n",
    "\n",
    "def detect_biased_words(text, biased_words):\n",
    "    # Tokenize and stem the job description\n",
    "    text_tokens = re.findall(r'\\b\\w+\\b', text.lower())\n",
    "    text_stems = stem_words(text_tokens)\n",
    "\n",
    "    # Stem the biased word list\n",
    "    biased_stems = stem_words(biased_words)\n",
    "\n",
    "    # Match stemmed biased words\n",
    "    found_indices = [i for i, stem in enumerate(text_stems) if stem in biased_stems]\n",
    "    found_words = [text_tokens[i] for i in found_indices]\n",
    "\n",
    "    return sorted(set(found_words))  # return unique matched words (original form)\n"
   ]
  },
  {
   "cell_type": "code",
   "execution_count": 23,
   "metadata": {},
   "outputs": [
    {
     "name": "stdout",
     "output_type": "stream",
     "text": [
      "['competitive', 'dominance', 'dominating', 'nurture', 'supporting']\n"
     ]
    }
   ],
   "source": [
    "biased = [\"competitive\", \"dominant\", \"nurturing\", \"supportive\"]\n",
    "\n",
    "text = \"\"\"\n",
    "We are seeking a competitive and dominating individual who thrives in a fast-paced environment. \n",
    "The person should be nurture supporting but able to assert dominance when needed.\n",
    "\"\"\"\n",
    "\n",
    "print(detect_biased_words(text, biased))\n",
    "# Output: ['competitive', 'dominating', 'dominance', 'nurturing']\n",
    "\n"
   ]
  },
  {
   "cell_type": "markdown",
   "metadata": {},
   "source": [
    "### Finds gender biased word stems and gives synonyms"
   ]
  },
  {
   "cell_type": "code",
   "execution_count": 19,
   "metadata": {},
   "outputs": [],
   "source": [
    "# ONLY EXAMPLES THIS SHOULD BE SWITCHED OUT WITH THE REAL WORDS WE FIND\n",
    "\n",
    "biased_synonyms = {\n",
    "    \"dominant\": [\"confident\", \"strong leadership\"],\n",
    "    \"competitive\": [\"ambitious\", \"goal-oriented\"],\n",
    "    \"nurturing\": [\"supportive\", \"team-oriented\"],\n",
    "    \"aggressive\": [\"proactive\", \"assertive\"]\n",
    "    # etc...\n",
    "}"
   ]
  },
  {
   "cell_type": "code",
   "execution_count": 24,
   "metadata": {},
   "outputs": [],
   "source": [
    "import re\n",
    "from nltk.stem import PorterStemmer\n",
    "\n",
    "stemmer = PorterStemmer()\n",
    "\n",
    "def stem_words(words):\n",
    "    return [stemmer.stem(word.lower()) for word in words]\n",
    "\n",
    "def detect_biased_words_synonyms(text, biased_dict):\n",
    "    # Tokenize and stem job description\n",
    "    text_tokens = re.findall(r'\\b\\w+\\b', text.lower())\n",
    "    text_stems = stem_words(text_tokens)\n",
    "\n",
    "    # Prepare stemmed version of the biased dictionary\n",
    "    stemmed_biased_dict = {stemmer.stem(k.lower()): (k, v) for k, v in biased_dict.items()}\n",
    "\n",
    "    results = []\n",
    "    for idx, stem in enumerate(text_stems):\n",
    "        if stem in stemmed_biased_dict:\n",
    "            original_word = text_tokens[idx]\n",
    "            biased_word, alternatives = stemmed_biased_dict[stem]\n",
    "            results.append({\n",
    "                \"matched_word\": original_word,\n",
    "                \"biased_word\": biased_word,\n",
    "                \"suggestions\": alternatives\n",
    "            })\n",
    "\n",
    "    return results"
   ]
  },
  {
   "cell_type": "code",
   "execution_count": 25,
   "metadata": {},
   "outputs": [
    {
     "name": "stdout",
     "output_type": "stream",
     "text": [
      "Found: 'dominant' → Suggest: ['confident', 'strong leadership']\n",
      "Found: 'aggressive' → Suggest: ['proactive', 'assertive']\n",
      "Found: 'competitive' → Suggest: ['ambitious', 'goal-oriented']\n",
      "Found: 'nurturing' → Suggest: ['supportive', 'team-oriented']\n"
     ]
    }
   ],
   "source": [
    "text = \"\"\"\n",
    "We are looking for a dominant and aggressive leader who is highly competitive and nurturing\n",
    "to younger staff.\n",
    "\"\"\"\n",
    "\n",
    "output = detect_biased_words_synonyms(text, biased_synonyms)\n",
    "\n",
    "for item in output:\n",
    "    print(f\"Found: '{item['matched_word']}' → Suggest: {item['suggestions']}\")"
   ]
  }
 ],
 "metadata": {
  "kernelspec": {
   "display_name": "Python 3",
   "language": "python",
   "name": "python3"
  },
  "language_info": {
   "codemirror_mode": {
    "name": "ipython",
    "version": 3
   },
   "file_extension": ".py",
   "mimetype": "text/x-python",
   "name": "python",
   "nbconvert_exporter": "python",
   "pygments_lexer": "ipython3",
   "version": "3.9.6"
  },
  "orig_nbformat": 4
 },
 "nbformat": 4,
 "nbformat_minor": 2
}
